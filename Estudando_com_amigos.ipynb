{
  "nbformat": 4,
  "nbformat_minor": 0,
  "metadata": {
    "colab": {
      "provenance": [],
      "authorship_tag": "ABX9TyNcKb/m15AcLJ593w5pzWRj",
      "include_colab_link": true
    },
    "kernelspec": {
      "name": "python3",
      "display_name": "Python 3"
    },
    "language_info": {
      "name": "python"
    }
  },
  "cells": [
    {
      "cell_type": "markdown",
      "metadata": {
        "id": "view-in-github",
        "colab_type": "text"
      },
      "source": [
        "<a href=\"https://colab.research.google.com/github/abarbaragomes/data-science/blob/main/Estudando_com_amigos.ipynb\" target=\"_parent\"><img src=\"https://colab.research.google.com/assets/colab-badge.svg\" alt=\"Open In Colab\"/></a>"
      ]
    },
    {
      "cell_type": "markdown",
      "source": [
        "###**Alguns amigos e eu resolvemos estudar Python em conjunto. Deixarei aqui os códigos que for construindo durante estes momentos de estudos.**"
      ],
      "metadata": {
        "id": "zVhhkheQaE3g"
      }
    },
    {
      "cell_type": "markdown",
      "source": [
        "Faça um programa que leia o salario de um trabalhador e o valor da prestação de um empréstimo. Se a prestação for maior que 20% do salário imprima: \"Empréstimo não concedido, caso contrario imprima: \"Empréstimo concedido\""
      ],
      "metadata": {
        "id": "ybmt5zB-asfb"
      }
    },
    {
      "cell_type": "code",
      "execution_count": 6,
      "metadata": {
        "colab": {
          "base_uri": "https://localhost:8080/"
        },
        "id": "PaHNGi18Z97z",
        "outputId": "6b129e6a-5979-4c93-d2fb-05d5f69bda19"
      },
      "outputs": [
        {
          "output_type": "stream",
          "name": "stdout",
          "text": [
            "Informe o salário do trabalhador: 2000\n",
            "Informe o valor da prestação do empréstimo: 400\n",
            "Informe o percentual aceitável para a concessão do empréstimo (no formato 0.20 para 20% por exemplo): 0.2\n",
            "Empréstimo concedido\n"
          ]
        }
      ],
      "source": [
        "salario = float(input('Informe o salário do trabalhador: '))\n",
        "prestacao = float(input('Informe o valor da prestação do empréstimo: '))\n",
        "percentual = float(input('Informe o percentual aceitável para a concessão do empréstimo (no formato 0.20 para 20% por exemplo): '))\n",
        "\n",
        "if prestacao > (salario * percentual):\n",
        "  print('Empréstimo não concedido!')\n",
        "else :\n",
        "  print('Empréstimo concedido')"
      ]
    },
    {
      "cell_type": "markdown",
      "source": [
        "Faça um programa que receba a altura e o sexo de uma pessoa e calcule e mostre seu peso ideal, utilizando as seguintes formulas (onde h corresponde a altura):\n",
        "\n",
        "• Homens: (72.7 ∗ h) − 58\n",
        "\n",
        "• Mulheres: (62, 1 ∗ h) − 44, 7"
      ],
      "metadata": {
        "id": "h-Ew3XH-dCBY"
      }
    },
    {
      "cell_type": "code",
      "source": [
        "pessoa = input('Informe se você se considera um Homem ou uma Mulher: ')\n",
        "altura = float(input('Informe a sua altura: '))\n",
        "\n",
        "if pessoa == 'Homem':\n",
        "  print((72.7 * altura) - 58)\n",
        "elif pessoa == 'Mulher':\n",
        "  print((62.1 * altura) - 44.7)\n",
        "else :\n",
        "  print('Digite corretamente se você se considera um Homem ou uma Mulher')"
      ],
      "metadata": {
        "colab": {
          "base_uri": "https://localhost:8080/"
        },
        "id": "TnDF1SYEcBYu",
        "outputId": "52643dea-3ea8-4cb1-ef4a-037531be29be"
      },
      "execution_count": 11,
      "outputs": [
        {
          "output_type": "stream",
          "name": "stdout",
          "text": [
            "Informe se você se considera um Homem ou uma Mulher: Mulher\n",
            "Informe a sua altura: 1.75\n",
            "63.974999999999994\n"
          ]
        }
      ]
    },
    {
      "cell_type": "markdown",
      "source": [],
      "metadata": {
        "id": "LlhT9FTIdM7g"
      }
    },
    {
      "cell_type": "code",
      "source": [],
      "metadata": {
        "id": "DKQqXoFxdNHH"
      },
      "execution_count": null,
      "outputs": []
    }
  ]
}